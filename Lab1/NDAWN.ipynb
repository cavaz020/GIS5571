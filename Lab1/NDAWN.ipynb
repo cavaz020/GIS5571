{
 "cells": [
  {
   "cell_type": "markdown",
   "metadata": {},
   "source": [
    "# NDAWN API"
   ]
  },
  {
   "cell_type": "markdown",
   "metadata": {},
   "source": [
    "The NDAWN API is not well documented at all. The main place I found information about the parameters for creating the requests was in this [github documentation](https://github.com/gettecr/get_us_weather/blob/master/get_weather_ndawn.py 'GitHub Documentation of NDAWN')."
   ]
  },
  {
   "cell_type": "code",
   "execution_count": 2,
   "metadata": {},
   "outputs": [],
   "source": [
    "import requests\n",
    "import pandas as pd"
   ]
  },
  {
   "cell_type": "markdown",
   "metadata": {},
   "source": [
    "## Requesting Datasets from NDAWN"
   ]
  },
  {
   "cell_type": "code",
   "execution_count": 3,
   "metadata": {},
   "outputs": [],
   "source": [
    "# Creating the base of the URL\n",
    "base_url = 'https://ndawn.ndsu.nodak.edu/table.csv?'"
   ]
  },
  {
   "cell_type": "code",
   "execution_count": 4,
   "metadata": {},
   "outputs": [],
   "source": [
    "# Creating the parameters for each of the datasets (CSVs)\n",
    "params_1 = {'station': '78', 'variable': 'wdmxt', 'begin_date': '2021-09-26','ttype': \"weekly\", 'count':'1'}\n",
    "\n",
    "params_2 = {'station': '111', 'variable': 'wdmxt', 'begin_date': '2021-09-26','ttype': \"weekly\", 'count':'1'}"
   ]
  },
  {
   "cell_type": "code",
   "execution_count": 10,
   "metadata": {},
   "outputs": [
    {
     "name": "stdout",
     "output_type": "stream",
     "text": [
      "<Response [200]>\n"
     ]
    }
   ],
   "source": [
    "# Creating the request for the first dataset (CSV)\n",
    "r_1 = requests.get(base_url, params_1)\n",
    "# Checking that the request was okay by printing it out (should be '<Response [200]>')\n",
    "print(r_1)"
   ]
  },
  {
   "cell_type": "code",
   "execution_count": 12,
   "metadata": {},
   "outputs": [
    {
     "name": "stdout",
     "output_type": "stream",
     "text": [
      "<Response [200]>\n"
     ]
    }
   ],
   "source": [
    "# Creating the request for the second dataset (CSV)\n",
    "r_2 = requests.get(base_url, params_2)\n",
    "# Checking that the request was okay by printing it out (should be '<Response [200]>')\n",
    "print(r_2)"
   ]
  },
  {
   "cell_type": "markdown",
   "metadata": {},
   "source": [
    "## Checking the CSVs"
   ]
  },
  {
   "cell_type": "markdown",
   "metadata": {},
   "source": [
    "Here, I am simply writing the datasets to a directory on my computer and then using pandas to print each table to see what it would look like if I opened up the CSV from the file on my computer."
   ]
  },
  {
   "cell_type": "code",
   "execution_count": 13,
   "metadata": {},
   "outputs": [],
   "source": [
    "# Decoding the first CSV\n",
    "with open(\"Output.csv\", \"w\") as text_file:\n",
    "    text_file.write(r_1.content.decode('utf-8'))"
   ]
  },
  {
   "cell_type": "code",
   "execution_count": 14,
   "metadata": {},
   "outputs": [],
   "source": [
    "# Decoding the second CSV\n",
    "with open(\"Output_2.csv\", \"w\") as text_file_2:\n",
    "    text_file_2.write(r_2.content.decode('utf-8'))"
   ]
  },
  {
   "cell_type": "code",
   "execution_count": 15,
   "metadata": {},
   "outputs": [
    {
     "name": "stdout",
     "output_type": "stream",
     "text": [
      "                                                       Flag Definition Line: M - Missing; E - Estimated; N/A - Not Available\n",
      "                                                                                                                Station Name\n",
      "NaN deg     deg      ft  NaN    NaN NaN  Degrees F NaN                                                NaN                   \n",
      "Ada 47.3211 -96.5139 910 2021.0 9.0 26.0 78.615    0.0                                                0.0                   \n"
     ]
    }
   ],
   "source": [
    "# Printing the first CSV\n",
    "weather_table_1 = pd.read_csv('Output.csv', header=[0,1], skiprows=3)\n",
    "print(weather_table_1)"
   ]
  },
  {
   "cell_type": "code",
   "execution_count": 16,
   "metadata": {},
   "outputs": [
    {
     "name": "stdout",
     "output_type": "stream",
     "text": [
      "                                                              Flag Definition Line: M - Missing; E - Estimated; N/A - Not Available\n",
      "                                                                                                                       Station Name\n",
      "NaN   deg       deg        ft   NaN    NaN NaN  Degrees F NaN                                                NaN                   \n",
      "Adams 48.499814 -98.075869 1580 2021.0 9.0 26.0 76.648    0.0                                                0.0                   \n"
     ]
    }
   ],
   "source": [
    "# Printing the second CSV\n",
    "weather_table_2 = pd.read_csv('Output_2.csv', header=[0,1], skiprows=3)\n",
    "print(weather_table_2)"
   ]
  },
  {
   "cell_type": "code",
   "execution_count": null,
   "metadata": {},
   "outputs": [],
   "source": []
  }
 ],
 "metadata": {
  "kernelspec": {
   "display_name": "ArcGISPro",
   "language": "Python",
   "name": "python3"
  },
  "language_info": {
   "file_extension": ".py",
   "name": "python",
   "version": "3"
  }
 },
 "nbformat": 4,
 "nbformat_minor": 2
}
