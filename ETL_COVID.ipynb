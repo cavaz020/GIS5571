{
 "cells": [
  {
   "cell_type": "code",
   "execution_count": 113,
   "metadata": {},
   "outputs": [],
   "source": [
    "import requests\n",
    "import pandas as pd"
   ]
  },
  {
   "cell_type": "markdown",
   "metadata": {},
   "source": [
    "## COVID-19 Data CDC"
   ]
  },
  {
   "cell_type": "markdown",
   "metadata": {},
   "source": [
    "ETL to retrieve large dataset of COVID data that will be further cleaned in Excel."
   ]
  },
  {
   "cell_type": "code",
   "execution_count": 114,
   "metadata": {},
   "outputs": [],
   "source": [
    "# Creating a variable to hold the base of the request url\n",
    "base_url = 'https://data.cdc.gov/resource/9mfq-cb36.'"
   ]
  },
  {
   "cell_type": "code",
   "execution_count": 115,
   "metadata": {},
   "outputs": [],
   "source": [
    "# Creating a dictionary to hold keys of the output options\n",
    "output = {'JSON': 'json', 'XML': 'xml', 'CSV': 'csv'}"
   ]
  },
  {
   "cell_type": "code",
   "execution_count": 116,
   "metadata": {},
   "outputs": [
    {
     "ename": "PermissionError",
     "evalue": "[Errno 13] Permission denied: 'covid_data.csv'",
     "output_type": "error",
     "traceback": [
      "\u001b[0;31m---------------------------------------------------------------------------\u001b[0m\n\u001b[0;31mPermissionError\u001b[0m                           Traceback (most recent call last)",
      "In  \u001b[0;34m[116]\u001b[0m:\nLine \u001b[0;34m3\u001b[0m:     \u001b[34mwith\u001b[39;49;00m \u001b[36mopen\u001b[39;49;00m(\u001b[33m\"\u001b[39;49;00m\u001b[33mcovid_data.csv\u001b[39;49;00m\u001b[33m\"\u001b[39;49;00m, \u001b[33m\"\u001b[39;49;00m\u001b[33mw\u001b[39;49;00m\u001b[33m\"\u001b[39;49;00m) \u001b[34mas\u001b[39;49;00m text_file:\n",
      "\u001b[0;31mPermissionError\u001b[0m: [Errno 13] Permission denied: 'covid_data.csv'\n\u001b[0;31m---------------------------------------------------------------------------\u001b[0m"
     ]
    }
   ],
   "source": [
    "cdc_covid_url = base_url + output['CSV']\n",
    "r = requests.get(cdc_covid_url)\n",
    "with open(\"covid_data.csv\", \"w\") as text_file:\n",
    "    text_file.write(r.content.decode('utf-8'))"
   ]
  },
  {
   "cell_type": "code",
   "execution_count": 117,
   "metadata": {},
   "outputs": [
    {
     "name": "stdout",
     "output_type": "stream",
     "text": [
      "           submission_date state  ...  consent_cases  consent_deaths\n",
      "0  2021-02-12T00:00:00.000    UT  ...          Agree           Agree\n",
      "1  2021-03-01T00:00:00.000    CO  ...          Agree           Agree\n",
      "2  2020-08-22T00:00:00.000    AR  ...      Not agree       Not agree\n",
      "3  2021-12-06T00:00:00.000    MP  ...          Agree           Agree\n",
      "4  2021-05-09T00:00:00.000    PW  ...            NaN             NaN\n",
      "\n",
      "[5 rows x 15 columns]\n"
     ]
    }
   ],
   "source": [
    "covid_data = pd.read_csv('covid_data.csv')\n",
    "print(covid_data.head())"
   ]
  },
  {
   "cell_type": "code",
   "execution_count": null,
   "metadata": {},
   "outputs": [],
   "source": []
  }
 ],
 "metadata": {
  "kernelspec": {
   "display_name": "ArcGISPro",
   "language": "Python",
   "name": "python3"
  },
  "language_info": {
   "file_extension": ".py",
   "name": "python",
   "version": "3"
  }
 },
 "nbformat": 4,
 "nbformat_minor": 2
}
