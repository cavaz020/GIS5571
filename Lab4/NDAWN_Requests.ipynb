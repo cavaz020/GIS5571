{
 "cells": [
  {
   "cell_type": "markdown",
   "metadata": {},
   "source": [
    "# Lab 4"
   ]
  },
  {
   "cell_type": "code",
   "execution_count": 1,
   "metadata": {},
   "outputs": [
    {
     "data": {
      "text/plain": [
       "\"\\n# Example syntax:\\nexampleRequest = ndawn_request(startDate='2020-06-23', endDate='2020-06-28', ontology=['Air Pressure', 'Relative Humidity', 'Soil Temperature', 'Wind Direction', 'Wind Speed'], location=['Mavie', 'Ottertail', 'Perham', 'Perley'])\\nndawnDF = exampleRequest.get_data()\\n\""
      ]
     },
     "execution_count": 1,
     "metadata": {},
     "output_type": "execute_result"
    }
   ],
   "source": [
    "import pandas as pd\n",
    "import requests\n",
    "from datetime import date\n",
    "from io import StringIO\n",
    "\n",
    "class ndawn_request:\n",
    "\n",
    "    def __init__(self, startDate='YYYY-MM-DD', endDate='YYYY-MM-DD', ontology = None, location = None, save = False):\n",
    "\n",
    "        self.start = startDate\n",
    "\n",
    "        self.end = endDate\n",
    "\n",
    "        # List of ontology terms, and their URL codes to build request URL\n",
    "        self.ontology = {\n",
    "            'Air Temperature': ['variable=hdt', 'variable=hdt9'],\n",
    "            'Relative Humidity': ['variable=hdrh', 'variable=hdrh9'],\n",
    "            'Soil Temperature': ['variable=hdbst', 'variable=hdtst'],\n",
    "            'Wind Speed': ['variable=hdws', 'variable=hdmxws', 'variable=hdws10', 'variable=hdmxws10'],\n",
    "            'Wind Direction': ['variable=hdwd', 'variable=hdsdwd', '&variable=hdwd10', 'variable=hdsdwd10'],\n",
    "            'Solar Radiation': ['variable=hdsr'],\n",
    "            'Rainfall': ['variable=hdr'],\n",
    "            'Air Pressure': ['variable=hdbp'],\n",
    "            'Dew Point': ['variable=hddp'],\n",
    "            'Wind Chill': ['variable=hdwc']\n",
    "        }\n",
    "        # Concatenate the ontology keys into a list for exception printout later\n",
    "        ontologiesErrorMessage = '\\n'.join(list(self.ontology.keys()))\n",
    "\n",
    "        # List of stations, and URL codes to build request URL\n",
    "        self.stations = {\n",
    "            'Ada': 78,\n",
    "            'Becker': 118,\n",
    "            'Campbell': 87,\n",
    "            'Clarissa': 124,\n",
    "            'Eldred': 2,\n",
    "            'Fox': 93,\n",
    "            'Greenbush': 70,\n",
    "            'Hubbard': 119,\n",
    "            'Humboldt': 4,\n",
    "            'Kennedy': 82,\n",
    "            'Little Falls': 120,\n",
    "            'Mavie': 71,\n",
    "            'Ottertail': 103,\n",
    "            'Parkers Prairie': 116,\n",
    "            'Perham': 114,\n",
    "            'Perley': 3,\n",
    "            'Pine Point': 115,\n",
    "            'Rice': 121,\n",
    "            'Roseau': 61,\n",
    "            'Sabin': 60,\n",
    "            'Staples': 122,\n",
    "            'Stephen': 5,\n",
    "            'Ulen': 91,\n",
    "            'Wadena': 117,\n",
    "            'Warren': 6,\n",
    "            'Waukon': 92,\n",
    "            'Westport': 123,\n",
    "            'Williams': 95\n",
    "        }\n",
    "        # Concatenate station names into a list for exception printout later\n",
    "        stationsErrorMessage = '\\n'.join(list(self.stations.keys()))\n",
    "\n",
    "        self.save = save\n",
    "\n",
    "        # This checks the start and end dates supplied to make sure they are valid\n",
    "        # Start by converting dates into iso format\n",
    "        startDateCheck = date.fromisoformat(startDate)\n",
    "        endDateCheck = date.fromisoformat(endDate)\n",
    "        # If start date is after end date, raise exception\n",
    "        if startDateCheck > endDateCheck:\n",
    "            raise Exception('End date cannot be before start date')\n",
    "        \n",
    "        # Create empty list to hold URL codes for ontology terms\n",
    "        self.activeMeasures = []\n",
    "        # If user supplies ontology terms\n",
    "        if ontology is not None:\n",
    "            for item in ontology:\n",
    "                # If user-supplied term is not in the dictionary, raise exception\n",
    "                if item not in self.ontology.keys():\n",
    "                    raise Exception('Ontology term [' + str(item) + '] not recognized. Available ontology terms include: ' + '\\n' + ontologiesErrorMessage)\n",
    "                # Otherwise, append URL codes for ontology terms into the list of measurements to be requested\n",
    "                else:\n",
    "                    for code in self.ontology[item]:\n",
    "                        self.activeMeasures.append(code)  \n",
    "        # If user does not supply ontology terms, add all URL codes in dictionary to the list of measurements to be requested    \n",
    "        else:\n",
    "            for key in self.ontology:\n",
    "                for code in self.ontology[key]:\n",
    "                    self.activeMeasures.append(code)\n",
    "\n",
    "        # Create empty list to hold URL codes for stations\n",
    "        self.activeStations = []\n",
    "        # If user supplies station names\n",
    "        if location is not None:\n",
    "            for name in location:\n",
    "                # If user-supplied name is not in the dictionary, raise exception\n",
    "                if name not in self.stations.keys():\n",
    "                    raise Exception('Station [' + str(name) + '] not recognized. Available stations include: ' + '\\n' + stationsErrorMessage)\n",
    "                # Otherwise, append URL codes for stations into the list of stations to be requested\n",
    "                else:\n",
    "                    self.activeStations.append('station=' + str(self.stations[name]))\n",
    "        # If user does not supply station names, add all station URL codes in dictionary to the list of stations to be requested\n",
    "        else:    \n",
    "            for key in self.stations:\n",
    "                self.activeStations.append('station=' + str(self.stations[key]))\n",
    "\n",
    "    def get_data(self):\n",
    "        \n",
    "        # Construct API call for the request\n",
    "        baseURL = 'https://ndawn.ndsu.nodak.edu/table.csv?'\n",
    "        stations = '&'.join(self.activeStations)\n",
    "        measurements = '&'.join(self.activeMeasures)\n",
    "        options = '&ttype=hourly&quick_pick=&begin_date=' + self.start + '&end_date=' + self.end\n",
    "        finalURL = str(baseURL + stations + '&' + measurements + options)\n",
    "        \n",
    "        # Request page\n",
    "        page = requests.get(finalURL)\n",
    "        # If status code not 200, raise exception\n",
    "        if page.status_code != 200:\n",
    "            raise Exception('URL request status not 200. Status code = ' + page.status_code)\n",
    "\n",
    "        print('Request successful')\n",
    "\n",
    "        # Convert csv data to string\n",
    "        content = str(page.content)\n",
    "        # Remove large, unnecessary header\n",
    "        trimContent = content[content.find('Station'):len(content)]\n",
    "        # Replace newline/return with string literal newline\n",
    "        formatContent = trimContent.replace('\\\\r\\\\n', '\\n')\n",
    "        # Convert content to file object\n",
    "        contentFile = StringIO(formatContent)\n",
    "\n",
    "        # Read content into pandas dataframe. Second header row contains units\n",
    "        ndawnData = pd.read_csv(contentFile, header = [0, 1])\n",
    "        \n",
    "        # Concatenate headers to include units\n",
    "        # Assign column list to object\n",
    "        columnHeaders = list(ndawnData.columns)\n",
    "        # List of new headers\n",
    "        newHeaderList = []\n",
    "        # Iterate through column names\n",
    "        for number in range(0, len(columnHeaders)):\n",
    "            # If no unit, keep header unchanged, pass into new list\n",
    "            if 'Unnamed' in columnHeaders[number][1]:\n",
    "                newHeaderList.append(columnHeaders[number][0])\n",
    "            # If unit exists, concatenate header and unit, pass into new list\n",
    "            else:\n",
    "                newHeader = columnHeaders[number][0] + ' (' + columnHeaders[number][1] + ') '\n",
    "                newHeaderList.append(newHeader)\n",
    "        # Assign new column names\n",
    "        ndawnData.columns = newHeaderList\n",
    "\n",
    "        # Create single column for datetime\n",
    "        ndawnData['Date'] = pd.to_datetime(ndawnData[['Year', 'Month', 'Day']])\n",
    "        \n",
    "        # Save to csv if save option selected\n",
    "        if self.save:\n",
    "            ndawnData.to_csv('ndawnData.csv', index=False)\n",
    "\n",
    "        return ndawnData\n",
    "    \n",
    "\"\"\"\n",
    "# Example syntax:\n",
    "exampleRequest = ndawn_request(startDate='2020-06-23', endDate='2020-06-28', ontology=['Air Pressure', 'Relative Humidity', 'Soil Temperature', 'Wind Direction', 'Wind Speed'], location=['Mavie', 'Ottertail', 'Perham', 'Perley'])\n",
    "ndawnDF = exampleRequest.get_data()\n",
    "\"\"\""
   ]
  },
  {
   "cell_type": "code",
   "execution_count": 2,
   "metadata": {},
   "outputs": [],
   "source": [
    "# Creating the request and entering the parameters I am using for my work\n",
    "r = ndawn_request(startDate = '2021-11-05', endDate = '2021-12-04', ontology = ['Air Temperature'], location =['Ada','Becker', 'Campbell', 'Clarissa','Eldred','Fox','Greenbush','Hubbard','Humboldt','Kennedy','Little Falls','Mavie','Ottertail','Parkers Prairie','Perham','Perley','Pine Point','Rice','Roseau','Sabin','Staples','Stephen','Ulen','Wadena','Warren','Waukon','Westport','Williams'])"
   ]
  },
  {
   "cell_type": "code",
   "execution_count": 3,
   "metadata": {},
   "outputs": [
    {
     "name": "stdout",
     "output_type": "stream",
     "text": [
      "Request successful\n"
     ]
    }
   ],
   "source": [
    "# Calling the request\n",
    "ndawnDF = r.get_data()"
   ]
  },
  {
   "cell_type": "code",
   "execution_count": 6,
   "metadata": {},
   "outputs": [
    {
     "data": {
      "text/html": [
       "<div>\n",
       "<style scoped>\n",
       "    .dataframe tbody tr th:only-of-type {\n",
       "        vertical-align: middle;\n",
       "    }\n",
       "\n",
       "    .dataframe tbody tr th {\n",
       "        vertical-align: top;\n",
       "    }\n",
       "\n",
       "    .dataframe thead th {\n",
       "        text-align: right;\n",
       "    }\n",
       "</style>\n",
       "<table border=\"1\" class=\"dataframe\">\n",
       "  <thead>\n",
       "    <tr style=\"text-align: right;\">\n",
       "      <th></th>\n",
       "      <th>Station Name</th>\n",
       "      <th>Latitude (deg)</th>\n",
       "      <th>Longitude (deg)</th>\n",
       "      <th>Elevation (ft)</th>\n",
       "      <th>Year</th>\n",
       "      <th>Month</th>\n",
       "      <th>Day</th>\n",
       "      <th>Hour (CST)</th>\n",
       "      <th>Avg Air Temp (Degrees F)</th>\n",
       "      <th>Avg Air Temp Flag</th>\n",
       "      <th>Avg Air Temp at 9 m (Degrees F)</th>\n",
       "      <th>Avg Air Temp at 9 m Flag</th>\n",
       "      <th>Date</th>\n",
       "    </tr>\n",
       "  </thead>\n",
       "  <tbody>\n",
       "    <tr>\n",
       "      <th>0</th>\n",
       "      <td>Ada</td>\n",
       "      <td>47.3211</td>\n",
       "      <td>-96.5139</td>\n",
       "      <td>910.0</td>\n",
       "      <td>2021.0</td>\n",
       "      <td>11.0</td>\n",
       "      <td>5.0</td>\n",
       "      <td>100.0</td>\n",
       "      <td>38.059</td>\n",
       "      <td>NaN</td>\n",
       "      <td>NaN</td>\n",
       "      <td>NaN</td>\n",
       "      <td>2021-11-05</td>\n",
       "    </tr>\n",
       "    <tr>\n",
       "      <th>1</th>\n",
       "      <td>Ada</td>\n",
       "      <td>47.3211</td>\n",
       "      <td>-96.5139</td>\n",
       "      <td>910.0</td>\n",
       "      <td>2021.0</td>\n",
       "      <td>11.0</td>\n",
       "      <td>5.0</td>\n",
       "      <td>200.0</td>\n",
       "      <td>36.837</td>\n",
       "      <td>NaN</td>\n",
       "      <td>NaN</td>\n",
       "      <td>NaN</td>\n",
       "      <td>2021-11-05</td>\n",
       "    </tr>\n",
       "    <tr>\n",
       "      <th>2</th>\n",
       "      <td>Ada</td>\n",
       "      <td>47.3211</td>\n",
       "      <td>-96.5139</td>\n",
       "      <td>910.0</td>\n",
       "      <td>2021.0</td>\n",
       "      <td>11.0</td>\n",
       "      <td>5.0</td>\n",
       "      <td>300.0</td>\n",
       "      <td>37.479</td>\n",
       "      <td>NaN</td>\n",
       "      <td>NaN</td>\n",
       "      <td>NaN</td>\n",
       "      <td>2021-11-05</td>\n",
       "    </tr>\n",
       "    <tr>\n",
       "      <th>3</th>\n",
       "      <td>Ada</td>\n",
       "      <td>47.3211</td>\n",
       "      <td>-96.5139</td>\n",
       "      <td>910.0</td>\n",
       "      <td>2021.0</td>\n",
       "      <td>11.0</td>\n",
       "      <td>5.0</td>\n",
       "      <td>400.0</td>\n",
       "      <td>35.807</td>\n",
       "      <td>NaN</td>\n",
       "      <td>NaN</td>\n",
       "      <td>NaN</td>\n",
       "      <td>2021-11-05</td>\n",
       "    </tr>\n",
       "    <tr>\n",
       "      <th>4</th>\n",
       "      <td>Ada</td>\n",
       "      <td>47.3211</td>\n",
       "      <td>-96.5139</td>\n",
       "      <td>910.0</td>\n",
       "      <td>2021.0</td>\n",
       "      <td>11.0</td>\n",
       "      <td>5.0</td>\n",
       "      <td>500.0</td>\n",
       "      <td>35.910</td>\n",
       "      <td>NaN</td>\n",
       "      <td>NaN</td>\n",
       "      <td>NaN</td>\n",
       "      <td>2021-11-05</td>\n",
       "    </tr>\n",
       "  </tbody>\n",
       "</table>\n",
       "</div>"
      ],
      "text/plain": [
       "  Station Name  Latitude (deg)   ...  Avg Air Temp at 9 m Flag       Date\n",
       "0          Ada          47.3211  ...                       NaN 2021-11-05\n",
       "1          Ada          47.3211  ...                       NaN 2021-11-05\n",
       "2          Ada          47.3211  ...                       NaN 2021-11-05\n",
       "3          Ada          47.3211  ...                       NaN 2021-11-05\n",
       "4          Ada          47.3211  ...                       NaN 2021-11-05\n",
       "\n",
       "[5 rows x 13 columns]"
      ]
     },
     "execution_count": 6,
     "metadata": {},
     "output_type": "execute_result"
    }
   ],
   "source": [
    "# Viewing the first 5 rows of the dataframe to see if the data was successfully downloaded\n",
    "ndawnDF.head()"
   ]
  },
  {
   "cell_type": "code",
   "execution_count": 8,
   "metadata": {},
   "outputs": [],
   "source": [
    "#Creating a csv table of the data\n",
    "temp_table = ndawnDF.to_csv('ndawnData.csv', index=False)"
   ]
  },
  {
   "cell_type": "code",
   "execution_count": null,
   "metadata": {},
   "outputs": [],
   "source": [
    "# Adding the CSV to the workspace\n",
    "with arcpy.EnvManager(scratchWorkspace=r\"C:\\Users\\ecava\\OneDrive\\Documents\\ArcGIS\\Projects\\lab4\\lab4.gdb\", workspace=r\"C:\\Users\\ecava\\OneDrive\\Documents\\ArcGIS\\Projects\\lab4\\lab4.gdb\"):\n",
    "    arcpy.conversion.TableToTable(r\"C:\\Users\\ecava\\OneDrive\\Documents\\ArcGIS\\Projects\\lab4\\ndawnData.csv\", r\"C:\\Users\\ecava\\OneDrive\\Documents\\ArcGIS\\Projects\\lab4\\lab4.gdb\", \"ndawn_Data\", '', r'Station Name \"Station Name\" true true false 8000 Text 0 0,First,#,C:\\Users\\ecava\\OneDrive\\Documents\\ArcGIS\\Projects\\lab4\\ndawnData.csv,Station Name,0,8000;Latitude (deg) \"Latitude (deg)\" true true false 8 Double 0 0,First,#,C:\\Users\\ecava\\OneDrive\\Documents\\ArcGIS\\Projects\\lab4\\ndawnData.csv,Latitude (deg),-1,-1;Longitude (deg) \"Longitude (deg)\" true true false 8 Double 0 0,First,#,C:\\Users\\ecava\\OneDrive\\Documents\\ArcGIS\\Projects\\lab4\\ndawnData.csv,Longitude (deg),-1,-1;Elevation (ft) \"Elevation (ft)\" true true false 8 Double 0 0,First,#,C:\\Users\\ecava\\OneDrive\\Documents\\ArcGIS\\Projects\\lab4\\ndawnData.csv,Elevation (ft),-1,-1;Year \"Year\" true true false 8 Double 0 0,First,#,C:\\Users\\ecava\\OneDrive\\Documents\\ArcGIS\\Projects\\lab4\\ndawnData.csv,Year,-1,-1;Month \"Month\" true true false 8 Double 0 0,First,#,C:\\Users\\ecava\\OneDrive\\Documents\\ArcGIS\\Projects\\lab4\\ndawnData.csv,Month,-1,-1;Day \"Day\" true true false 8 Double 0 0,First,#,C:\\Users\\ecava\\OneDrive\\Documents\\ArcGIS\\Projects\\lab4\\ndawnData.csv,Day,-1,-1;Hour (CST) \"Hour (CST)\" true true false 8 Double 0 0,First,#,C:\\Users\\ecava\\OneDrive\\Documents\\ArcGIS\\Projects\\lab4\\ndawnData.csv,Hour (CST),-1,-1;Avg Air Temp (Degrees F) \"Avg Air Temp (Degrees F)\" true true false 8 Double 0 0,First,#,C:\\Users\\ecava\\OneDrive\\Documents\\ArcGIS\\Projects\\lab4\\ndawnData.csv,Avg Air Temp (Degrees F),-1,-1;Avg Air Temp Flag \"Avg Air Temp Flag\" true true false 8000 Text 0 0,First,#,C:\\Users\\ecava\\OneDrive\\Documents\\ArcGIS\\Projects\\lab4\\ndawnData.csv,Avg Air Temp Flag,0,8000;Avg Air Temp at 9 m (Degrees F) \"Avg Air Temp at 9 m (Degrees F)\" true true false 8000 Text 0 0,First,#,C:\\Users\\ecava\\OneDrive\\Documents\\ArcGIS\\Projects\\lab4\\ndawnData.csv,Avg Air Temp at 9 m (Degrees F),0,8000;Avg Air Temp at 9 m Flag \"Avg Air Temp at 9 m Flag\" true true false 8000 Text 0 0,First,#,C:\\Users\\ecava\\OneDrive\\Documents\\ArcGIS\\Projects\\lab4\\ndawnData.csv,Avg Air Temp at 9 m Flag,0,8000;Date \"Date\" true true false 8 Date 0 0,First,#,C:\\Users\\ecava\\OneDrive\\Documents\\ArcGIS\\Projects\\lab4\\ndawnData.csv,Date,-1,-1', '')"
   ]
  },
  {
   "cell_type": "code",
   "execution_count": null,
   "metadata": {},
   "outputs": [],
   "source": [
    "# Creating Points for each station at each date\n",
    "arcpy.management.XYTableToPoint(\"ndawn_Data\", r\"C:\\Users\\ecava\\OneDrive\\Documents\\ArcGIS\\Projects\\lab4\\lab4.gdb\\ndawn_Data_XYTableToPoint1\", \"Longitude__deg_\", \"Latitude__deg_\", \"Avg_Air_Temp__Degrees_F_\", 'GEOGCS[\"GCS_WGS_1984\",DATUM[\"D_WGS_1984\",SPHEROID[\"WGS_1984\",6378137.0,298.257223563]],PRIMEM[\"Greenwich\",0.0],UNIT[\"Degree\",0.0174532925199433]],VERTCS[\"WGS_1984\",DATUM[\"D_WGS_1984\",SPHEROID[\"WGS_1984\",6378137.0,298.257223563]],PARAMETER[\"Vertical_Shift\",0.0],PARAMETER[\"Direction\",1.0],UNIT[\"Meter\",1.0]];-400 -400 1000000000;-100000 10000;-100000 10000;8.98315284119521E-09;0.001;0.001;IsHighPrecision')"
   ]
  },
  {
   "cell_type": "markdown",
   "metadata": {},
   "source": [
    "## IDW"
   ]
  },
  {
   "cell_type": "code",
   "execution_count": 9,
   "metadata": {},
   "outputs": [
    {
     "data": {
      "text/html": [
       "<h2>Output</h2>C:\\Users\\ecava\\OneDrive\\Documents\\ArcGIS\\Projects\\lab4\\lab4.gdb\\Idw_ndawn_Da1<h2>Messages</h2>Start Time: Saturday, December 4, 2021 1:19:04 AM<br/>Succeeded at Saturday, December 4, 2021 1:19:06 AM (Elapsed Time: 1.97 seconds)<br/><style>.rendered_html td, .rendered_html th {text-align: left;}.rendered_html tbody {border: 1px solid black;}</style>"
      ],
      "text/plain": [
       "<Result 'C:\\\\Users\\\\ecava\\\\OneDrive\\\\Documents\\\\ArcGIS\\\\Projects\\\\lab4\\\\lab4.gdb\\\\Idw_ndawn_Da1'>"
      ]
     },
     "execution_count": 9,
     "metadata": {},
     "output_type": "execute_result"
    }
   ],
   "source": [
    "# Running IDW\n",
    "arcpy.ddd.Idw(\"stations_avg_temp\", \"MEAN_Avg_Air_Temp__Degrees_F_\", r\"C:\\Users\\ecava\\OneDrive\\Documents\\ArcGIS\\Projects\\lab4\\lab4.gdb\\Idw_ndawn_Da1\", 0.0132, 2, \"VARIABLE 4\", None)"
   ]
  },
  {
   "cell_type": "markdown",
   "metadata": {},
   "source": [
    "## Kriging"
   ]
  },
  {
   "cell_type": "code",
   "execution_count": 10,
   "metadata": {},
   "outputs": [
    {
     "data": {
      "text/html": [
       "<h2>Output</h2><table><tr><th>id</th><th>value</th></tr><tr><td>0</td><td>C:\\Users\\ecava\\OneDrive\\Documents\\ArcGIS\\Projects\\lab4\\lab4.gdb\\Kriging_ndaw1</td></tr><tr><td>1</td><td></td></tr></table><h2>Messages</h2>Start Time: Saturday, December 4, 2021 1:19:20 AM<br/>GAUSSIAN<br/>Lag size\t\t= 0.013200<br/>Partial sill\t= 49201.867241<br/>Nugget\t\t= 0.000000<br/>Major range\t= 0.355240<br/>Succeeded at Saturday, December 4, 2021 1:19:23 AM (Elapsed Time: 2.02 seconds)<br/><style>.rendered_html td, .rendered_html th {text-align: left;}.rendered_html tbody {border: 1px solid black;}</style>"
      ],
      "text/plain": [
       "<Result 'C:\\\\Users\\\\ecava\\\\OneDrive\\\\Documents\\\\ArcGIS\\\\Projects\\\\lab4\\\\lab4.gdb\\\\Kriging_ndaw1'>"
      ]
     },
     "execution_count": 10,
     "metadata": {},
     "output_type": "execute_result"
    }
   ],
   "source": [
    "#Ordinary using Spherical\n",
    "arcpy.ddd.Kriging(\"ndawn_Data_XYTableToPoint1\", \"Avg_Air_Temp__Degrees_F_\", r\"C:\\Users\\ecava\\OneDrive\\Documents\\ArcGIS\\Projects\\lab4\\lab4.gdb\\Kriging\", \"Spherical 0.013200 # # #\", 0.0132, \"VARIABLE 4\", None)"
   ]
  },
  {
   "cell_type": "markdown",
   "metadata": {},
   "source": [
    "## GPI"
   ]
  },
  {
   "cell_type": "code",
   "execution_count": null,
   "metadata": {},
   "outputs": [],
   "source": [
    "# Performing GPI method\n",
    "arcpy.ga.GlobalPolynomialInterpolation(\"stations_avg_temp\", \"MEAN_Avg_Air_Temp__Degrees_F_\", None, r\"C:\\Users\\ecava\\OneDrive\\Documents\\ArcGIS\\Projects\\lab4\\lab4.gdb\\GPI_ndawn\", 0.0132, 1, None)"
   ]
  }
 ],
 "metadata": {
  "kernelspec": {
   "display_name": "ArcGISPro",
   "language": "Python",
   "name": "python3"
  },
  "language_info": {
   "file_extension": ".py",
   "name": "python",
   "version": "3"
  }
 },
 "nbformat": 4,
 "nbformat_minor": 4
}
