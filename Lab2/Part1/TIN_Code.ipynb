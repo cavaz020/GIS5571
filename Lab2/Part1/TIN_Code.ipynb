{
 "cells": [
  {
   "cell_type": "code",
   "execution_count": 9,
   "metadata": {},
   "outputs": [],
   "source": [
    "import arcpy"
   ]
  },
  {
   "cell_type": "markdown",
   "metadata": {},
   "source": [
    "## Converting LAS File to a TIN"
   ]
  },
  {
   "cell_type": "code",
   "execution_count": 10,
   "metadata": {},
   "outputs": [
    {
     "data": {
      "text/html": [
       "<h2>Output</h2>C:\\Users\\ecava\\OneDrive\\Documents\\ArcGIS\\Projects\\Lab2\\TIN_lyr<h2>Messages</h2>Start Time: Monday, October 18, 2021 8:15:12 PM<br/>Succeeded at Monday, October 18, 2021 8:15:12 PM (Elapsed Time: 0.63 seconds)<br/><style>.rendered_html td, .rendered_html th {text-align: left;}.rendered_html tbody {border: 1px solid black;}</style>"
      ],
      "text/plain": [
       "<Result 'C:\\\\Users\\\\ecava\\\\OneDrive\\\\Documents\\\\ArcGIS\\\\Projects\\\\Lab2\\\\TIN_lyr'>"
      ]
     },
     "execution_count": 10,
     "metadata": {},
     "output_type": "execute_result"
    }
   ],
   "source": [
    "# Converting the LAS File to TIN format\n",
    "arcpy.ddd.LasDatasetToTin(\"4342-12-05.las\", r\"C:\\Users\\ecava\\OneDrive\\Documents\\ArcGIS\\Projects\\Lab2\\TIN_lyr\", \"WINDOW_SIZE\", \"MIN\", 13.989, 5000000, 1, \"CLIP\")"
   ]
  },
  {
   "cell_type": "markdown",
   "metadata": {},
   "source": [
    "## Creating a Layout of the TIN and Exporting as a PDF"
   ]
  },
  {
   "cell_type": "code",
   "execution_count": 11,
   "metadata": {},
   "outputs": [],
   "source": [
    "# Assigning the Project to a variable to be referenced\n",
    "aprx = arcpy.mp.ArcGISProject(\"CURRENT\")"
   ]
  },
  {
   "cell_type": "code",
   "execution_count": 12,
   "metadata": {},
   "outputs": [],
   "source": [
    "# Assigning the Layout with the TIN Map frame to a variable\n",
    "lyt_TIN = aprx.listLayouts('TIN_Layout')[0]"
   ]
  },
  {
   "cell_type": "code",
   "execution_count": 13,
   "metadata": {},
   "outputs": [
    {
     "data": {
      "text/plain": [
       "'C:\\\\Users\\\\ecava\\\\OneDrive\\\\Documents\\\\ArcGIS\\\\Projects\\\\Lab2\\\\TIN_lyt.pdf'"
      ]
     },
     "execution_count": 13,
     "metadata": {},
     "output_type": "execute_result"
    }
   ],
   "source": [
    "# Exporting the layout as a PDF\n",
    "lyt_TIN.exportToPDF(r\"C:\\Users\\ecava\\OneDrive\\Documents\\ArcGIS\\Projects\\Lab2\\TIN_lyt.pdf\")"
   ]
  },
  {
   "cell_type": "code",
   "execution_count": null,
   "metadata": {},
   "outputs": [],
   "source": []
  }
 ],
 "metadata": {
  "kernelspec": {
   "display_name": "ArcGISPro",
   "language": "Python",
   "name": "python3"
  },
  "language_info": {
   "file_extension": ".py",
   "name": "python",
   "version": "3"
  }
 },
 "nbformat": 4,
 "nbformat_minor": 2
}
