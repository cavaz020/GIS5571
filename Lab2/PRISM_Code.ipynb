{
 "cells": [
  {
   "cell_type": "markdown",
   "metadata": {},
   "source": [
    "# Space Time Cube"
   ]
  },
  {
   "cell_type": "markdown",
   "metadata": {},
   "source": [
    "This code details how I downloaded the annual 30-Year Normals .bil files for precipitation from PRISM, added them to the map and created the spacetime cube."
   ]
  },
  {
   "cell_type": "code",
   "execution_count": 45,
   "metadata": {},
   "outputs": [],
   "source": [
    "import requests\n",
    "import json\n",
    "import pprint\n",
    "import zipfile\n",
    "import arcpy\n",
    "import pandas as pd\n",
    "import os"
   ]
  },
  {
   "cell_type": "markdown",
   "metadata": {},
   "source": [
    "## Requesting the PRISM Data (.bil)"
   ]
  },
  {
   "cell_type": "code",
   "execution_count": 1,
   "metadata": {},
   "outputs": [],
   "source": [
    "# Creating the base of the URL\n",
    "base_url = 'http://services.nacse.org/prism/data/public/normals/4km'"
   ]
  },
  {
   "cell_type": "code",
   "execution_count": 47,
   "metadata": {},
   "outputs": [],
   "source": [
    "# Creating the parameters for each of the datasets (.bil)\n",
    "element = {'precipitation':'ppt'}\n",
    "date = {'yyyy':'2010'}"
   ]
  },
  {
   "cell_type": "code",
   "execution_count": 48,
   "metadata": {},
   "outputs": [
    {
     "name": "stdout",
     "output_type": "stream",
     "text": [
      "http://services.nacse.org/prism/data/public/normals/4km/ppt/2010\n"
     ]
    }
   ],
   "source": [
    "url_final = base_url + '/' + element['precipitation'] + '/'+ date['yyyy']\n",
    "print(url_final)"
   ]
  },
  {
   "cell_type": "code",
   "execution_count": 49,
   "metadata": {},
   "outputs": [],
   "source": [
    "# Requesting zipfile of .bil files\n",
    "r = requests.get(url_final)"
   ]
  },
  {
   "cell_type": "code",
   "execution_count": 50,
   "metadata": {},
   "outputs": [
    {
     "name": "stdout",
     "output_type": "stream",
     "text": [
      "<Response [200]>\n"
     ]
    }
   ],
   "source": [
    "# Checking the response\n",
    "print(r)"
   ]
  },
  {
   "cell_type": "markdown",
   "metadata": {},
   "source": [
    "## Opening the file and Adding it to the Map"
   ]
  },
  {
   "cell_type": "code",
   "execution_count": 53,
   "metadata": {},
   "outputs": [
    {
     "ename": "PermissionError",
     "evalue": "[Errno 13] Permission denied: 'PRISM_ppt_30yr_normal_4kmM2_annual_bil.zip'",
     "output_type": "error",
     "traceback": [
      "\u001b[0;31m---------------------------------------------------------------------------\u001b[0m\n\u001b[0;31mPermissionError\u001b[0m                           Traceback (most recent call last)",
      "In  \u001b[0;34m[53]\u001b[0m:\nLine \u001b[0;34m2\u001b[0m:     \u001b[36mopen\u001b[39;49;00m(\u001b[33m'\u001b[39;49;00m\u001b[33mPRISM_ppt_30yr_normal_4kmM2_annual_bil.zip\u001b[39;49;00m\u001b[33m'\u001b[39;49;00m, \u001b[33m'\u001b[39;49;00m\u001b[33mwb\u001b[39;49;00m\u001b[33m'\u001b[39;49;00m).write(r.content)\n",
      "\u001b[0;31mPermissionError\u001b[0m: [Errno 13] Permission denied: 'PRISM_ppt_30yr_normal_4kmM2_annual_bil.zip'\n\u001b[0;31m---------------------------------------------------------------------------\u001b[0m"
     ]
    }
   ],
   "source": [
    "# Opening the file\n",
    "open('PRISM_ppt_30yr_normal_4kmM2_annual_bil.zip', 'wb').write(r.content)\n",
    "print('extracting the content...')"
   ]
  },
  {
   "cell_type": "code",
   "execution_count": 28,
   "metadata": {},
   "outputs": [],
   "source": [
    "# Unzipping the bil files to the directory on my computer\n",
    "with zipfile.ZipFile('PRISM_ppt_30yr_normal_4kmM2_annual_bil.zip', 'r') as zip_ref:\n",
    "    zip_ref.extractall('C:/Users/ecava/OneDrive/Documents/ArcGIS/Projects/Lab2_pt1_3/bil_files')"
   ]
  },
  {
   "cell_type": "code",
   "execution_count": 54,
   "metadata": {},
   "outputs": [],
   "source": [
    "# Using Arcpy.mp to add the raster to the map\n",
    "aprx = arcpy.mp.ArcGISProject(\"CURRENT\")\n",
    "m = aprx.listMaps(\"Map\")[0]"
   ]
  },
  {
   "cell_type": "code",
   "execution_count": 55,
   "metadata": {},
   "outputs": [
    {
     "data": {
      "text/plain": [
       "<arcpy._mp.Layer object at 0x0000024EA90EFC88>"
      ]
     },
     "execution_count": 55,
     "metadata": {},
     "output_type": "execute_result"
    }
   ],
   "source": [
    "# Adding the Raster to the geodatabase at hand\n",
    "m.addDataFromPath(r'C:\\Users\\ecava\\OneDrive\\Documents\\ArcGIS\\Projects\\Lab2_pt1_3\\bil_files\\PRISM_ppt_30yr_normal_4kmM2_annual_bil.bil')"
   ]
  },
  {
   "cell_type": "code",
   "execution_count": 56,
   "metadata": {},
   "outputs": [
    {
     "data": {
      "text/html": [
       "<h2>Output</h2>C:\\Users\\ecava\\OneDrive\\Documents\\ArcGIS\\Projects\\Lab2_pt1_3\\Lab2_pt1_3.gdb\\resampled_raster<h2>Messages</h2>Start Time: Monday, October 18, 2021 11:46:34 PM<br/>Building Pyramids...<br/>Succeeded at Monday, October 18, 2021 11:46:36 PM (Elapsed Time: 1.51 seconds)<br/><style>.rendered_html td, .rendered_html th {text-align: left;}.rendered_html tbody {border: 1px solid black;}</style>"
      ],
      "text/plain": [
       "<Result 'C:\\\\Users\\\\ecava\\\\OneDrive\\\\Documents\\\\ArcGIS\\\\Projects\\\\Lab2_pt1_3\\\\Lab2_pt1_3.gdb\\\\resampled_raster'>"
      ]
     },
     "execution_count": 56,
     "metadata": {},
     "output_type": "execute_result"
    }
   ],
   "source": [
    "# Resampling raster\n",
    "arcpy.management.Resample(\"PRISM_ppt_30yr_normal_4kmM2_annual_bil.bil\", r\"C:\\Users\\ecava\\OneDrive\\Documents\\ArcGIS\\Projects\\Lab2_pt1_3\\Lab2_pt1_3.gdb\\resampled_raster\", \"0.041666666667 0.041666666667\", \"NEAREST\")"
   ]
  },
  {
   "cell_type": "markdown",
   "metadata": {},
   "source": [
    "## Creating the SpaceTime Cube"
   ]
  },
  {
   "cell_type": "code",
   "execution_count": 2,
   "metadata": {},
   "outputs": [
    {
     "data": {
      "text/html": [
       "<h2>Output</h2>C:\\Users\\ecava\\OneDrive\\Documents\\ArcGIS\\Projects\\Lab2_pt1_3\\Lab2_pt1_3.gdb\\prism_ppt_created<h2>Messages</h2>Start Time: Tuesday, October 26, 2021 2:26:44 PM<br/>Succeeded at Tuesday, October 26, 2021 2:26:47 PM (Elapsed Time: 3.01 seconds)<br/><style>.rendered_html td, .rendered_html th {text-align: left;}.rendered_html tbody {border: 1px solid black;}</style>"
      ],
      "text/plain": [
       "<Result 'C:\\\\Users\\\\ecava\\\\OneDrive\\\\Documents\\\\ArcGIS\\\\Projects\\\\Lab2_pt1_3\\\\Lab2_pt1_3.gdb\\\\prism_ppt_created'>"
      ]
     },
     "execution_count": 2,
     "metadata": {},
     "output_type": "execute_result"
    }
   ],
   "source": [
    "# Creating an empty mosaic dataset\n",
    "arcpy.management.CreateMosaicDataset(r\"C:\\Users\\ecava\\OneDrive\\Documents\\ArcGIS\\Projects\\Lab2_pt1_3\\Lab2_pt1_3.gdb\", \"prism_ppt_created\", 'GEOGCS[\"GCS_North_American_1983\",DATUM[\"D_North_American_1983\",SPHEROID[\"GRS_1980\",6378137.0,298.257222101]],PRIMEM[\"Greenwich\",0.0],UNIT[\"Degree\",0.0174532925199433]]', None, '', \"NONE\", None)"
   ]
  },
  {
   "cell_type": "code",
   "execution_count": 6,
   "metadata": {},
   "outputs": [],
   "source": [
    "# Adding the empty raster to a mosaic datset\n",
    "with arcpy.EnvManager(scratchWorkspace=r\"C:\\Users\\ecava\\OneDrive\\Documents\\ArcGIS\\Projects\\Lab2_pt1_3\\Lab2_pt1_3.gdb\", workspace=r\"C:\\Users\\ecava\\OneDrive\\Documents\\ArcGIS\\Projects\\Lab2_pt1_3\\Lab2_pt1_3.gdb\"):\n",
    "    arcpy.management.AddRastersToMosaicDataset(r\"C:\\Users\\ecava\\OneDrive\\Documents\\ArcGIS\\Projects\\Lab2_pt1_3\\Lab2_pt1_3.gdb\\prism_ppt_created\", \"Raster Dataset\", r\"C:\\Users\\ecava\\OneDrive\\Documents\\ArcGIS\\Projects\\Lab2_pt1_3\", \"UPDATE_CELL_SIZES\", \"UPDATE_BOUNDARY\", \"NO_OVERVIEWS\", None, 0, 1500, None, '', \"SUBFOLDERS\", \"ALLOW_DUPLICATES\", \"NO_PYRAMIDS\", \"NO_STATISTICS\", \"NO_THUMBNAILS\", '', \"NO_FORCE_SPATIAL_REFERENCE\", \"NO_STATISTICS\", None, \"NO_PIXEL_CACHE\", r\"C:\\Users\\ecava\\AppData\\Local\\ESRI\\rasterproxies\\prism_ppt_created\")"
   ]
  },
  {
   "cell_type": "code",
   "execution_count": 7,
   "metadata": {},
   "outputs": [
    {
     "data": {
      "text/html": [
       "<h2>Output</h2>a Layer object<h2>Messages</h2>Start Time: Tuesday, October 26, 2021 2:28:19 PM<br/>Succeeded at Tuesday, October 26, 2021 2:28:19 PM (Elapsed Time: 0.08 seconds)<br/><style>.rendered_html td, .rendered_html th {text-align: left;}.rendered_html tbody {border: 1px solid black;}</style>"
      ],
      "text/plain": [
       "<Result 'prism_ppt_created\\\\Footprint'>"
      ]
     },
     "execution_count": 7,
     "metadata": {},
     "output_type": "execute_result"
    }
   ],
   "source": [
    "# Calculating the 'variable' field\n",
    "arcpy.management.CalculateField(r\"prism_ppt_created\\Footprint\", \"Variable\", \"'ppt'\", \"PYTHON3\", '', \"TEXT\", \"NO_ENFORCE_DOMAINS\")"
   ]
  },
  {
   "cell_type": "code",
   "execution_count": 8,
   "metadata": {},
   "outputs": [
    {
     "data": {
      "text/html": [
       "<h2>Output</h2>a Layer object<h2>Messages</h2>Start Time: Tuesday, October 26, 2021 2:28:40 PM<br/>Adding Timestamp to AMD_prism_ppt_created_CAT...<br/>Succeeded at Tuesday, October 26, 2021 2:28:40 PM (Elapsed Time: 0.17 seconds)<br/><style>.rendered_html td, .rendered_html th {text-align: left;}.rendered_html tbody {border: 1px solid black;}</style>"
      ],
      "text/plain": [
       "<Result 'prism_ppt_created\\\\Footprint'>"
      ]
     },
     "execution_count": 8,
     "metadata": {},
     "output_type": "execute_result"
    }
   ],
   "source": [
    "# Calculating the timestamp field\n",
    "arcpy.management.CalculateField(r\"prism_ppt_created\\Footprint\", \"Timestamp\", \"DateAdd(Date(1981,0,1), $feature.OBJECTID-1, 'year')\", \"ARCADE\", '', \"DATE\", \"NO_ENFORCE_DOMAINS\")"
   ]
  },
  {
   "cell_type": "code",
   "execution_count": 9,
   "metadata": {},
   "outputs": [
    {
     "data": {
      "text/html": [
       "<h2>Output</h2>a Layer object<h2>Messages</h2>Start Time: Tuesday, October 26, 2021 2:29:42 PM<br/>Succeeded at Tuesday, October 26, 2021 2:29:43 PM (Elapsed Time: 0.58 seconds)<br/><style>.rendered_html td, .rendered_html th {text-align: left;}.rendered_html tbody {border: 1px solid black;}</style>"
      ],
      "text/plain": [
       "<Result 'prism_ppt_created'>"
      ]
     },
     "execution_count": 9,
     "metadata": {},
     "output_type": "execute_result"
    }
   ],
   "source": [
    "# Building multidimensional Information in the mosaic of rasters\n",
    "arcpy.md.BuildMultidimensionalInfo(\"prism_ppt_created\", \"Variable\", \"Timestamp # #\", None, \"NO_DELETE_MULTIDIMENSIONAL_INFO\")"
   ]
  },
  {
   "cell_type": "code",
   "execution_count": 10,
   "metadata": {},
   "outputs": [
    {
     "data": {
      "text/html": [
       "<h2>Output</h2>a Layer object<h2>Messages</h2>Start Time: Tuesday, October 26, 2021 2:30:02 PM<br/>Succeeded at Tuesday, October 26, 2021 2:30:03 PM (Elapsed Time: 0.58 seconds)<br/><style>.rendered_html td, .rendered_html th {text-align: left;}.rendered_html tbody {border: 1px solid black;}</style>"
      ],
      "text/plain": [
       "<Result 'prism_ppt_created_yearly_MultidimLayer'>"
      ]
     },
     "execution_count": 10,
     "metadata": {},
     "output_type": "execute_result"
    }
   ],
   "source": [
    "# Making a multi-dimensional raster layer \n",
    "arcpy.md.MakeMultidimensionalRasterLayer(\"prism_ppt_created\", \"prism_ppt_created_yearly_MultidimLayer\", \"ppt\", \"ALL\", None, None, '', '', '', None, '', \"-125.020833333333 24.0625000029491 -66.4791666733335 49.9375000000025\", \"DIMENSIONS\")"
   ]
  },
  {
   "cell_type": "code",
   "execution_count": 8,
   "metadata": {},
   "outputs": [
    {
     "data": {
      "text/html": [
       "<h2>Output</h2>C:\\Users\\ecava\\OneDrive\\Documents\\ArcGIS\\Projects\\Lab2_pt1_3\\stc_prism_30yr_ppt.nc<h2>Messages</h2>Start Time: Tuesday, October 26, 2021 1:52:06 PM<br/>WARNING 110290: This tool requires projected data to accurately measure distances.  The Input Multidimensional Raster Layer will be projected to the WGS 1984 World Equidistant Cylindrical projection (WKID 4087).<br/>WARNING 110013: The default Time Step Interval is 1 month.<br/>WARNING 110067: Your spatial reference is not compatible with CF Conventions.  You may experience difficulties using the resulting space-time cube with other NetCDF tools and software.<br/>json:<br/>[{\"element\": \"table\", \"data\": [[{\"data\": \"Input feature time extent\", \"prop\": {\"rowspan\": 2}}, \"4904-09-01 06:00:00\"], [{\"data\": \"to 4905-08-01 06:00:00\", \"prop\": {\"text-align\": \"right\"}}], [\"\", \"\"], [\"Number of time steps\", \"12\"], [\"Time step interval\", \"1 month\"], [\"Time step alignment\", \"End\"], [\"\", \"\"], [\"First time step temporal bias\", \"100.00%\"], [{\"data\": \"First time step interval\", \"prop\": {\"rowspan\": 4}}, \"after\"], [{\"data\": \"4904-08-01 06:00:00\", \"prop\": {\"text-align\": \"right\"}}], [{\"data\": \"to on or before\", \"prop\": {\"text-align\": \"right\"}}], [{\"data\": \"4904-09-01 06:00:00\", \"prop\": {\"text-align\": \"right\"}}], [\"\", \"\"], [\"Last time step temporal bias\", \"0.00%\"], [{\"data\": \"First time step interval\", \"prop\": {\"rowspan\": 4}}, \"after\"], [{\"data\": \"4905-07-01 06:00:00\", \"prop\": {\"text-align\": \"right\"}}], [{\"data\": \"to on or before\", \"prop\": {\"text-align\": \"right\"}}], [{\"data\": \"4905-08-01 06:00:00\", \"prop\": {\"text-align\": \"right\"}}], [\"\", \"\"], [\"Cube extent across space\", \"(coordinates in meters)\"], [\"Min X\", \"-13917256.9380\"], [\"Min Y\", \"2662211.4605\"], [\"Max X\", \"-7400426.8158\"], [\"Max Y\", \"5533896.3428\"]], \"elementProps\": {\"striped\": \"true\", \"noHeader\": true, \"title\": \"Space Time Cube Characteristics\", \"0\": {\"align\": \"left\", \"pad\": \"0px\", \"wrap\": true}, \"1\": {\"align\": \"right\", \"pad\": \"0px\", \"wrap\": true}}}]<br/>json:<br/>[{\"element\": \"table\", \"data\": [[\"Locations\", \"643736\"], [\"Total observations\", \"7724832\"]], \"elementProps\": {\"striped\": \"true\", \"0\": {\"align\": \"left\", \"pad\": \"0px\", \"wrap\": true}, \"1\": {\"align\": \"right\", \"pad\": \"0px\", \"wrap\": true}}}]<br/>json:<br/>[{\"element\": \"table\", \"data\": [[\"Trend direction\", \"Not Significant\"], [\"Trend statistic\", \"0.0000\"], [\"Trend p-value\", \"1.0000\"]], \"elementProps\": {\"striped\": \"true\", \"noHeader\": true, \"title\": \"Overall Data Trend - PPT_NONE_ZEROS\", \"0\": {\"align\": \"left\", \"pad\": \"0px\", \"wrap\": true}, \"1\": {\"align\": \"right\", \"pad\": \"0px\", \"wrap\": true}}}]<br/>Succeeded at Tuesday, October 26, 2021 2:07:24 PM (Elapsed Time: 15 minutes 18 seconds)<br/><style>.rendered_html td, .rendered_html th {text-align: left;}.rendered_html tbody {border: 1px solid black;}</style>"
      ],
      "text/plain": [
       "<Result 'C:\\\\Users\\\\ecava\\\\OneDrive\\\\Documents\\\\ArcGIS\\\\Projects\\\\Lab2_pt1_3\\\\stc_prism_30yr_ppt.nc'>"
      ]
     },
     "execution_count": 8,
     "metadata": {},
     "output_type": "execute_result"
    }
   ],
   "source": [
    "# Creating Space Time Cube\n",
    "arcpy.stpm.CreateSpaceTimeCubeMDRasterLayer(\"prism_ppt_created_MultidimLayer\", r\"C:\\Users\\ecava\\OneDrive\\Documents\\ArcGIS\\Projects\\Lab2_pt1_3\\stc_prism_30yr_ppt.nc\", \"ZEROS\")"
   ]
  },
  {
   "cell_type": "code",
   "execution_count": null,
   "metadata": {},
   "outputs": [],
   "source": []
  }
 ],
 "metadata": {
  "kernelspec": {
   "display_name": "ArcGISPro",
   "language": "Python",
   "name": "python3"
  },
  "language_info": {
   "file_extension": ".py",
   "name": "python",
   "version": "3"
  }
 },
 "nbformat": 4,
 "nbformat_minor": 2
}
