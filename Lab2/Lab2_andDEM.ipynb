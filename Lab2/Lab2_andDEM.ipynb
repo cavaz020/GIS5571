{
 "cells": [
  {
   "cell_type": "markdown",
   "metadata": {},
   "source": [
    "# Downloading LAS File"
   ]
  },
  {
   "cell_type": "code",
   "execution_count": 1,
   "metadata": {},
   "outputs": [],
   "source": [
    "import requests\n",
    "import arcpy"
   ]
  },
  {
   "cell_type": "code",
   "execution_count": 2,
   "metadata": {},
   "outputs": [],
   "source": [
    "# Creating the request for the Lidar data (LAS File)\n",
    "lidar_r = requests.get('https://resources.gisdata.mn.gov/pub/data/elevation/lidar/examples/lidar_sample/las/4342-12-05.las')"
   ]
  },
  {
   "cell_type": "code",
   "execution_count": 3,
   "metadata": {},
   "outputs": [
    {
     "name": "stdout",
     "output_type": "stream",
     "text": [
      "extracting the content...\n"
     ]
    }
   ],
   "source": [
    "# Opening the content downloaded from the MNDNR Website via request\n",
    "open('4342-12-05.las', 'wb').write(lidar_r.content)\n",
    "print('extracting the content...')"
   ]
  },
  {
   "cell_type": "markdown",
   "metadata": {},
   "source": [
    "## Converting LAS File to a DEM"
   ]
  },
  {
   "cell_type": "code",
   "execution_count": 4,
   "metadata": {},
   "outputs": [
    {
     "data": {
      "text/html": [
       "<h2>Output</h2>C:\\Users\\ecava\\OneDrive\\Documents\\ArcGIS\\Projects\\Lab2\\dem_lyr\\DEM_Lyr<h2>Messages</h2>Start Time: Monday, October 18, 2021 5:57:29 PM<br/>Succeeded at Monday, October 18, 2021 5:57:32 PM (Elapsed Time: 3.05 seconds)<br/><style>.rendered_html td, .rendered_html th {text-align: left;}.rendered_html tbody {border: 1px solid black;}</style>"
      ],
      "text/plain": [
       "<Result 'C:\\\\Users\\\\ecava\\\\OneDrive\\\\Documents\\\\ArcGIS\\\\Projects\\\\Lab2\\\\dem_lyr\\\\DEM_Lyr'>"
      ]
     },
     "execution_count": 4,
     "metadata": {},
     "output_type": "execute_result"
    }
   ],
   "source": [
    "# Converting the LAS File to a DEM\n",
    "arcpy.conversion.LasDatasetToRaster(\"4342-12-05.las\", r\"C:\\Users\\ecava\\OneDrive\\Documents\\ArcGIS\\Projects\\Lab2\\dem_lyr\\DEM_Lyr\", \"ELEVATION\", \"BINNING AVERAGE LINEAR\", \"FLOAT\", \"CELLSIZE\", 10, 1)"
   ]
  },
  {
   "cell_type": "markdown",
   "metadata": {},
   "source": [
    "## Creating a Layout of the DEM and Exporting as a PDF"
   ]
  },
  {
   "cell_type": "code",
   "execution_count": 5,
   "metadata": {},
   "outputs": [],
   "source": [
    "# Assigning the Project to a variable to be referenced\n",
    "aprx = arcpy.mp.ArcGISProject(\"CURRENT\")"
   ]
  },
  {
   "cell_type": "code",
   "execution_count": 6,
   "metadata": {},
   "outputs": [],
   "source": [
    "# Assigning the Layout with the TIN Map frame to a variable\n",
    "lyt_DEM = aprx.listLayouts(\"DEM_Layout\")[0]"
   ]
  },
  {
   "cell_type": "code",
   "execution_count": 8,
   "metadata": {},
   "outputs": [
    {
     "data": {
      "text/plain": [
       "'C:\\\\Users\\\\ecava\\\\OneDrive\\\\Documents\\\\ArcGIS\\\\Projects\\\\Lab2\\\\DEM_lyt.pdf'"
      ]
     },
     "execution_count": 8,
     "metadata": {},
     "output_type": "execute_result"
    }
   ],
   "source": [
    "# Exporting the DEM Layout to a PDF\n",
    "lyt_DEM.exportToPDF(r\"C:\\Users\\ecava\\OneDrive\\Documents\\ArcGIS\\Projects\\Lab2\\DEM_lyt.pdf\")"
   ]
  },
  {
   "cell_type": "code",
   "execution_count": null,
   "metadata": {},
   "outputs": [],
   "source": []
  }
 ],
 "metadata": {
  "kernelspec": {
   "display_name": "ArcGISPro",
   "language": "Python",
   "name": "python3"
  },
  "language_info": {
   "file_extension": ".py",
   "name": "python",
   "version": "3"
  }
 },
 "nbformat": 4,
 "nbformat_minor": 2
}
