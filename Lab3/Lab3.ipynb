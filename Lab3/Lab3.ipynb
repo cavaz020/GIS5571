{
 "cells": [
  {
   "cell_type": "markdown",
   "metadata": {},
   "source": [
    "# Cost Raster Calculations and Optimal Path"
   ]
  },
  {
   "cell_type": "code",
   "execution_count": 34,
   "metadata": {},
   "outputs": [],
   "source": [
    "import requests\n",
    "import zipfile\n",
    "import arcpy"
   ]
  },
  {
   "cell_type": "markdown",
   "metadata": {},
   "source": [
    "## Pre-processing"
   ]
  },
  {
   "cell_type": "code",
   "execution_count": 35,
   "metadata": {},
   "outputs": [
    {
     "data": {
      "text/html": [
       "<h2>Output</h2>C:\\Users\\ecava\\OneDrive\\Documents\\ArcGIS\\Projects\\Lab3\\Lab3.gdb\\county_dems<h2>Messages</h2>Start Time: Friday, December 3, 2021 9:53:54 PM<br/>wabasha_clip_dem is loading...<br/>dem_1m_m_Clip_winona is loading...<br/>olmstead_dem_clip is loading...<br/>Succeeded at Friday, December 3, 2021 9:54:56 PM (Elapsed Time: 1 minutes 1 seconds)<br/><style>.rendered_html td, .rendered_html th {text-align: left;}.rendered_html tbody {border: 1px solid black;}</style>"
      ],
      "text/plain": [
       "<Result 'C:\\\\Users\\\\ecava\\\\OneDrive\\\\Documents\\\\ArcGIS\\\\Projects\\\\Lab3\\\\Lab3.gdb\\\\county_dems'>"
      ]
     },
     "execution_count": 35,
     "metadata": {},
     "output_type": "execute_result"
    }
   ],
   "source": [
    "# Adding the three DEMs together to create one raster layer\n",
    "arcpy.management.MosaicToNewRaster(\"wabasha_clip_dem;dem_1m_m_Clip_winona;olmstead_dem_clip\", r\"C:\\Users\\ecava\\OneDrive\\Documents\\ArcGIS\\Projects\\Lab3\\Lab3.gdb\", \"county_dems\", 'PROJCS[\"NAD_1983_UTM_Zone_15N\",GEOGCS[\"GCS_North_American_1983\",DATUM[\"D_North_American_1983\",SPHEROID[\"GRS_1980\",6378137.0,298.257222101]],PRIMEM[\"Greenwich\",0.0],UNIT[\"Degree\",0.0174532925199433]],PROJECTION[\"Transverse_Mercator\"],PARAMETER[\"False_Easting\",500000.0],PARAMETER[\"False_Northing\",0.0],PARAMETER[\"Central_Meridian\",-93.0],PARAMETER[\"Scale_Factor\",0.9996],PARAMETER[\"Latitude_Of_Origin\",0.0],UNIT[\"Meter\",1.0]]', \"16_BIT_UNSIGNED\", None, 1, \"LAST\", \"FIRST\")"
   ]
  },
  {
   "cell_type": "markdown",
   "metadata": {},
   "source": [
    "## Slope DEM"
   ]
  },
  {
   "cell_type": "code",
   "execution_count": 36,
   "metadata": {},
   "outputs": [],
   "source": [
    "# Calculating slope for the study area DEMs\n",
    "with arcpy.EnvManager(scratchWorkspace=r\"C:\\Users\\ecava\\OneDrive\\Documents\\ArcGIS\\Projects\\Lab3\\Lab3.gdb\", workspace=r\"C:\\Users\\ecava\\OneDrive\\Documents\\ArcGIS\\Projects\\Lab3\\Lab3.gdb\"):\n",
    "    out_raster = arcpy.sa.Slope(\"county_dems\", \"PERCENT_RISE\", 1, \"PLANAR\", \"METER\"); out_raster.save(r\"C:\\Users\\ecava\\OneDrive\\Documents\\ArcGIS\\Projects\\Lab3\\Lab3.gdb\\Slope_county1\")"
   ]
  },
  {
   "cell_type": "code",
   "execution_count": 38,
   "metadata": {},
   "outputs": [],
   "source": [
    "# Rescaling by function for slope\n",
    "with arcpy.EnvManager(scratchWorkspace=r\"C:\\Users\\ecava\\OneDrive\\Documents\\ArcGIS\\Projects\\Lab3\\Lab3.gdb\", compression=\"NONE\", pyramid=\"NONE\", workspace=r\"C:\\Users\\ecava\\OneDrive\\Documents\\ArcGIS\\Projects\\Lab3\\Lab3.gdb\"):\n",
    "    Rescale_coun1 = arcpy.sa.RescaleByFunction(\"Slope_county1\", \"MSSMALL 0.5 0.5 0 # 1000 #\", 1, 10); out_raster.save(r\"C:\\Users\\ecava\\OneDrive\\Documents\\ArcGIS\\Projects\\Lab3\\Lab3.gdb\\Rescale_coun1\")"
   ]
  },
  {
   "cell_type": "markdown",
   "metadata": {},
   "source": [
    "## Land Use Data"
   ]
  },
  {
   "cell_type": "code",
   "execution_count": 39,
   "metadata": {},
   "outputs": [],
   "source": [
    "# Reclassifying the land use data based on the outlined preferences\n",
    "with arcpy.EnvManager(scratchWorkspace=r\"C:\\Users\\ecava\\OneDrive\\Documents\\ArcGIS\\Projects\\Lab3\\Lab3.gdb\", compression=\"NONE\", pyramid=\"NONE\", workspace=r\"C:\\Users\\ecava\\OneDrive\\Documents\\ArcGIS\\Projects\\Lab3\\Lab3.gdb\"):\n",
    "    arcpy.ddd.Reclassify(\"NLCD_2016_Land_Cover_Clip\", \"Value\", \"11 7;21 1;22 1;23 1;24 1;31 1;41 1;42 1;43 1;52 1;71 1;81 10;82 10;90 5;95 5\", r\"C:\\Users\\ecava\\OneDrive\\Documents\\ArcGIS\\Projects\\Lab3\\Lab3.gdb\\Reclass_NLCD1\", \"DATA\")"
   ]
  },
  {
   "cell_type": "code",
   "execution_count": 40,
   "metadata": {},
   "outputs": [],
   "source": [
    "# Weighted Sum (both layers weighted as 1)\n",
    "with arcpy.EnvManager(scratchWorkspace=r\"C:\\Users\\ecava\\OneDrive\\Documents\\ArcGIS\\Projects\\Lab3\\Lab3.gdb\", workspace=r\"C:\\Users\\ecava\\OneDrive\\Documents\\ArcGIS\\Projects\\Lab3\\Lab3.gdb\"):\n",
    "    Weighte_Recl1 = arcpy.ia.WeightedSum(\"Reclass_NLCD1 Value 1;Rescale_coun1 VALUE 1\"); out_raster.save(r\"C:\\Users\\ecava\\OneDrive\\Documents\\ArcGIS\\Projects\\Lab3\\Lab3.gdb\\Weighte_Recl1\")"
   ]
  },
  {
   "cell_type": "code",
   "execution_count": 41,
   "metadata": {},
   "outputs": [],
   "source": [
    "# Finding the Optimal Connection\n",
    "with arcpy.EnvManager(scratchWorkspace=r\"C:\\Users\\ecava\\OneDrive\\Documents\\ArcGIS\\Projects\\Lab3\\Lab3.gdb\", workspace=r\"C:\\Users\\ecava\\OneDrive\\Documents\\ArcGIS\\Projects\\Lab3\\Lab3.gdb\"):\n",
    "    arcpy.sa.OptimalRegionConnections(\"Points_XYTableToPoint1\", r\"C:\\Users\\ecava\\OneDrive\\Documents\\ArcGIS\\Projects\\Lab3\\Lab3.gdb\\Optimal_Connection\", None, \"Weighte_Recl1\", None, \"PLANAR\", \"GENERATE_CONNECTIONS\")"
   ]
  },
  {
   "cell_type": "markdown",
   "metadata": {},
   "source": [
    "## Alternate Routes"
   ]
  },
  {
   "cell_type": "markdown",
   "metadata": {},
   "source": [
    "Changing weights/classifications"
   ]
  },
  {
   "cell_type": "markdown",
   "metadata": {},
   "source": [
    "Optional Version 1: Landcover value 1, Rescaled slope value 0.5"
   ]
  },
  {
   "cell_type": "code",
   "execution_count": 50,
   "metadata": {},
   "outputs": [],
   "source": [
    "# Changing the weights so Landcover is a 1 but Rescaled slope is 0.5\n",
    "with arcpy.EnvManager(scratchWorkspace=r\"C:\\Users\\ecava\\OneDrive\\Documents\\ArcGIS\\Projects\\Lab3\\Lab3.gdb\", workspace=r\"C:\\Users\\ecava\\OneDrive\\Documents\\ArcGIS\\Projects\\Lab3\\Lab3.gdb\"):\n",
    "    Weighte_Recl2 = arcpy.ia.WeightedSum(\"Reclass_NLCD1 Value 1;Rescale_coun1 VALUE 0.5\"); out_raster.save(r\"C:\\Users\\ecava\\OneDrive\\Documents\\ArcGIS\\Projects\\Lab3\\Lab3.gdb\\Weighte_Recl2\")"
   ]
  },
  {
   "cell_type": "code",
   "execution_count": 51,
   "metadata": {},
   "outputs": [],
   "source": [
    "# Finding the Optimal Connection version 2\n",
    "with arcpy.EnvManager(scratchWorkspace=r\"C:\\Users\\ecava\\OneDrive\\Documents\\ArcGIS\\Projects\\Lab3\\Lab3.gdb\", workspace=r\"C:\\Users\\ecava\\OneDrive\\Documents\\ArcGIS\\Projects\\Lab3\\Lab3.gdb\"):\n",
    "    arcpy.sa.OptimalRegionConnections(\"Points_XYTableToPoint1\", r\"C:\\Users\\ecava\\OneDrive\\Documents\\ArcGIS\\Projects\\Lab3\\Lab3.gdb\\Optimal_Connection2\", None, \"Weighte_Recl2\", None, \"PLANAR\", \"GENERATE_CONNECTIONS\")"
   ]
  },
  {
   "cell_type": "markdown",
   "metadata": {},
   "source": [
    "Optional Version 2: Landcover value 0.5, Rescaled slope value 1"
   ]
  },
  {
   "cell_type": "code",
   "execution_count": 52,
   "metadata": {},
   "outputs": [],
   "source": [
    "# Changing the weights so Landcover is 0.5 and Rescaled slope is 1\n",
    "with arcpy.EnvManager(scratchWorkspace=r\"C:\\Users\\ecava\\OneDrive\\Documents\\ArcGIS\\Projects\\Lab3\\Lab3.gdb\", workspace=r\"C:\\Users\\ecava\\OneDrive\\Documents\\ArcGIS\\Projects\\Lab3\\Lab3.gdb\"):\n",
    "    Weighte_Recl3 = arcpy.ia.WeightedSum(\"Reclass_NLCD1 Value 0.5;Rescale_coun1 VALUE 1\"); out_raster.save(r\"C:\\Users\\ecava\\OneDrive\\Documents\\ArcGIS\\Projects\\Lab3\\Lab3.gdb\\Weighte_Recl3\")"
   ]
  },
  {
   "cell_type": "code",
   "execution_count": 53,
   "metadata": {},
   "outputs": [],
   "source": [
    "# Finding the Optimal Connection version 3\n",
    "with arcpy.EnvManager(scratchWorkspace=r\"C:\\Users\\ecava\\OneDrive\\Documents\\ArcGIS\\Projects\\Lab3\\Lab3.gdb\", workspace=r\"C:\\Users\\ecava\\OneDrive\\Documents\\ArcGIS\\Projects\\Lab3\\Lab3.gdb\"):\n",
    "    arcpy.sa.OptimalRegionConnections(\"Points_XYTableToPoint1\", r\"C:\\Users\\ecava\\OneDrive\\Documents\\ArcGIS\\Projects\\Lab3\\Lab3.gdb\\Optimal_Connection3\", None, \"Weighte_Recl3\", None, \"PLANAR\", \"GENERATE_CONNECTIONS\")"
   ]
  },
  {
   "cell_type": "markdown",
   "metadata": {},
   "source": [
    "Changing Land Use Classification and creating a new optimal version"
   ]
  },
  {
   "cell_type": "code",
   "execution_count": 54,
   "metadata": {},
   "outputs": [],
   "source": [
    "# Reclassifying the land use data based on the outlined preferences - changing open water to a 10 cost\n",
    "with arcpy.EnvManager(scratchWorkspace=r\"C:\\Users\\ecava\\OneDrive\\Documents\\ArcGIS\\Projects\\Lab3\\Lab3.gdb\", workspace=r\"C:\\Users\\ecava\\OneDrive\\Documents\\ArcGIS\\Projects\\Lab3\\Lab3.gdb\"):\n",
    "    arcpy.ddd.Reclassify(\"NLCD_2016_Land_Cover_Clip\", \"Value\", \"11 10;21 1;22 1;23 1;24 1;31 1;41 1;42 1;43 1;52 1;71 1;81 10;82 10;90 5;95 5\", r\"C:\\Users\\ecava\\OneDrive\\Documents\\ArcGIS\\Projects\\Lab3\\Lab3.gdb\\Reclass_NLCD2\", \"DATA\")"
   ]
  },
  {
   "cell_type": "code",
   "execution_count": 55,
   "metadata": {},
   "outputs": [],
   "source": [
    "# Weighted Sum (both layers weighted as 1)\n",
    "Weighte_Recl4 = arcpy.ia.WeightedSum(\"Reclass_NLCD2 Value 1;Rescale_coun1 VALUE 1\"); out_raster.save(r\"C:\\Users\\ecava\\OneDrive\\Documents\\ArcGIS\\Projects\\Lab3\\Lab3.gdb\\Weighte_Recl4\")"
   ]
  },
  {
   "cell_type": "code",
   "execution_count": 56,
   "metadata": {},
   "outputs": [],
   "source": [
    "# Finding the Optimal Connection version 4\n",
    "with arcpy.EnvManager(scratchWorkspace=r\"C:\\Users\\ecava\\OneDrive\\Documents\\ArcGIS\\Projects\\Lab3\\Lab3.gdb\", workspace=r\"C:\\Users\\ecava\\OneDrive\\Documents\\ArcGIS\\Projects\\Lab3\\Lab3.gdb\"):\n",
    "    arcpy.sa.OptimalRegionConnections(\"Points_XYTableToPoint1\", r\"C:\\Users\\ecava\\OneDrive\\Documents\\ArcGIS\\Projects\\Lab3\\Lab3.gdb\\Optimal_Connection4\", None, \"Weighte_Recl4\", None, \"PLANAR\", \"GENERATE_CONNECTIONS\")"
   ]
  },
  {
   "cell_type": "code",
   "execution_count": null,
   "metadata": {},
   "outputs": [],
   "source": []
  }
 ],
 "metadata": {
  "kernelspec": {
   "display_name": "ArcGISPro",
   "language": "Python",
   "name": "python3"
  },
  "language_info": {
   "file_extension": ".py",
   "name": "python",
   "version": "3"
  }
 },
 "nbformat": 4,
 "nbformat_minor": 2
}
